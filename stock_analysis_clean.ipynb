{
  "nbformat": 4,
  "nbformat_minor": 0,
  "metadata": {
    "colab": {
      "provenance": [],
      "authorship_tag": "ABX9TyPwN8VN710o82Mp6gMk5JNw"
    },
    "kernelspec": {
      "name": "python3",
      "display_name": "Python 3"
    },
    "language_info": {
      "name": "python"
    }
  },
  "cells": [
    {
      "cell_type": "code",
      "source": [
        "!pip install yfinance"
      ],
      "metadata": {
        "id": "-dnElmAVZd01"
      },
      "execution_count": null,
      "outputs": []
    },
    {
      "cell_type": "code",
      "execution_count": null,
      "metadata": {
        "id": "F4SDUZKDZCWw"
      },
      "outputs": [],
      "source": [
        "import yfinance as yf\n",
        "import pandas as pd\n",
        "import matplotlib.pyplot as plt"
      ]
    },
    {
      "cell_type": "code",
      "source": [
        "# Download data\n",
        "raw_data = yf.download(tickers, start='2025-01-01', end='2025-06-25', group_by='ticker')\n",
        "\n",
        "# Extract 'Close' prices (auto-adjusted)\n",
        "close_prices = pd.DataFrame()\n",
        "\n",
        "for ticker in tickers:\n",
        "    close_prices[ticker] = raw_data[ticker]['Close']\n",
        "\n",
        "# Show first few rows\n",
        "close_prices.head()"
      ],
      "metadata": {
        "id": "tyWkUrqGdKJL"
      },
      "execution_count": null,
      "outputs": []
    },
    {
      "cell_type": "code",
      "source": [
        "close_prices.plot(figsize=(12,6), title='Stock Prices: Indian Defence Sector')\n",
        "plt.ylabel(\"Price (INR)\")\n",
        "plt.grid(True)\n",
        "plt.show()"
      ],
      "metadata": {
        "id": "cbh4KawaZvR3"
      },
      "execution_count": null,
      "outputs": []
    },
    {
      "cell_type": "code",
      "source": [
        "daily_returns = close_prices.pct_change()\n",
        "daily_returns.plot(figsize=(12,6), title='Daily Returns: Indian Defence Stocks')\n",
        "plt.grid(True)\n",
        "plt.show()"
      ],
      "metadata": {
        "id": "ivj2g9VYZvM_"
      },
      "execution_count": null,
      "outputs": []
    },
    {
      "cell_type": "code",
      "source": [
        "monthly_returns = close_prices.resample('M').ffill().pct_change()\n",
        "monthly_returns.plot(kind='bar', figsize=(14,6), title='Monthly Returns: Indian Defence Stocks')\n",
        "plt.ylabel(\"Monthly Return %\")\n",
        "plt.grid(True)\n",
        "plt.show()"
      ],
      "metadata": {
        "id": "RmrZL4XDZvGQ"
      },
      "execution_count": null,
      "outputs": []
    },
    {
      "cell_type": "code",
      "source": [
        "print(\"Average Daily Return (%):\")\n",
        "print(daily_returns.mean() * 100)\n",
        "\n",
        "print(\"\\nVolatility (%):\")\n",
        "print(daily_returns.std() * 100)"
      ],
      "metadata": {
        "id": "PDXz_GZyZu0w"
      },
      "execution_count": null,
      "outputs": []
    }
  ]
}